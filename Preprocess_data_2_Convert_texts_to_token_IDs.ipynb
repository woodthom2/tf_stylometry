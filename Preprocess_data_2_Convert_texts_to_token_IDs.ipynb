{
 "cells": [
  {
   "cell_type": "markdown",
   "metadata": {},
   "source": [
    "# Convert all texts to sequences of tokens\n",
    "\n",
    "identified by IDs"
   ]
  },
  {
   "cell_type": "code",
   "execution_count": null,
   "metadata": {
    "collapsed": true
   },
   "outputs": [],
   "source": [
    "import os, sys, re\n",
    "import gzip"
   ]
  },
  {
   "cell_type": "code",
   "execution_count": null,
   "metadata": {
    "collapsed": true
   },
   "outputs": [],
   "source": [
    "import numpy as np"
   ]
  },
  {
   "cell_type": "code",
   "execution_count": null,
   "metadata": {
    "collapsed": true
   },
   "outputs": [],
   "source": [
    "input_folder = 'data/raw'"
   ]
  },
  {
   "cell_type": "code",
   "execution_count": null,
   "metadata": {
    "collapsed": true
   },
   "outputs": [],
   "source": [
    "output_folder = 'data/processed'"
   ]
  },
  {
   "cell_type": "code",
   "execution_count": null,
   "metadata": {
    "collapsed": true
   },
   "outputs": [],
   "source": [
    "import pickle as pkl, gzip, pandas as pd\n",
    "from nltk.tokenize import RegexpTokenizer\n",
    "tokenizer = RegexpTokenizer(r'\\w+|\\'')"
   ]
  },
  {
   "cell_type": "code",
   "execution_count": null,
   "metadata": {
    "collapsed": true
   },
   "outputs": [],
   "source": [
    "def preprocess(text):\n",
    "    tokens = tokenizer.tokenize(text)\n",
    "    preprocessed  = []\n",
    "    for token in tokens:\n",
    "        if len(token) > 2 and token == token[0].upper() + token[1:].lower():\n",
    "            token = \"_PROPERNAME_\"\n",
    "        preprocessed.append(token.lower())\n",
    "    return preprocessed"
   ]
  },
  {
   "cell_type": "code",
   "execution_count": null,
   "metadata": {
    "collapsed": true
   },
   "outputs": [],
   "source": [
    "import gzip, pickle as pkl\n",
    "with gzip.GzipFile(\"abridged_index2word.pkl.gz\", \"rb\") as f:\n",
    "    abridged_index2word = pkl.load(f)\n",
    "with gzip.GzipFile(\"abridged_word2index.pkl.gz\", \"rb\") as f:\n",
    "    abridged_word2index = pkl.load(f)"
   ]
  },
  {
   "cell_type": "code",
   "execution_count": null,
   "metadata": {
    "scrolled": true
   },
   "outputs": [],
   "source": [
    "abridged_index2word[:50]"
   ]
  },
  {
   "cell_type": "code",
   "execution_count": null,
   "metadata": {
    "collapsed": true
   },
   "outputs": [],
   "source": [
    "def preprocess_to_token_id(text):\n",
    "    tokens = preprocess(text)\n",
    "    ids = []\n",
    "    for t in tokens:\n",
    "        if t in abridged_word2index:\n",
    "            idx = abridged_word2index[t]\n",
    "        else: # _UNKNOWN_\n",
    "            idx = 0\n",
    "        ids.append(idx)\n",
    "    return ids"
   ]
  },
  {
   "cell_type": "code",
   "execution_count": null,
   "metadata": {
    "collapsed": true
   },
   "outputs": [],
   "source": [
    "for root, folder, files in os.walk(input_folder):\n",
    "    for file_name in files:\n",
    "        all_token_ids = []\n",
    "        with open(input_folder + '/' + file_name, 'r') as f:\n",
    "            all_lines = list(f)\n",
    "            for l in all_lines:\n",
    "                token_ids = preprocess_to_token_id(l)\n",
    "                all_token_ids.extend(token_ids)\n",
    "        all_token_ids = np.asarray(all_token_ids)\n",
    "        with gzip.open(output_folder + '/' + file_name + \".gz\", 'wb') as f:\n",
    "            pkl.dump(all_token_ids, f)"
   ]
  }
 ],
 "metadata": {
  "kernelspec": {
   "display_name": "Python 3",
   "language": "python",
   "name": "python3"
  },
  "language_info": {
   "codemirror_mode": {
    "name": "ipython",
    "version": 3
   },
   "file_extension": ".py",
   "mimetype": "text/x-python",
   "name": "python",
   "nbconvert_exporter": "python",
   "pygments_lexer": "ipython3",
   "version": "3.6.2"
  }
 },
 "nbformat": 4,
 "nbformat_minor": 2
}
