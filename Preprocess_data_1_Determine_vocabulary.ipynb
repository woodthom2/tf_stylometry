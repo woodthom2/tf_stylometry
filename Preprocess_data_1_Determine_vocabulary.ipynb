{
 "cells": [
  {
   "cell_type": "markdown",
   "metadata": {},
   "source": [
    "# Get all the vocabulary\n",
    "\n",
    "This processes the dataset and gets the tokens, and assigns and ID to each one.\n",
    "\n",
    "Make the vocabulary key\n",
    "* ID 0 is _UNKNOWN_"
   ]
  },
  {
   "cell_type": "code",
   "execution_count": 1,
   "metadata": {
    "collapsed": true
   },
   "outputs": [],
   "source": [
    "import os, sys, re\n",
    "import gzip"
   ]
  },
  {
   "cell_type": "code",
   "execution_count": 2,
   "metadata": {
    "collapsed": true
   },
   "outputs": [],
   "source": [
    "import gensim"
   ]
  },
  {
   "cell_type": "code",
   "execution_count": 3,
   "metadata": {
    "collapsed": true
   },
   "outputs": [],
   "source": [
    "import numpy as np"
   ]
  },
  {
   "cell_type": "code",
   "execution_count": 4,
   "metadata": {
    "collapsed": true
   },
   "outputs": [],
   "source": [
    "# Set the path to the downloaded GenSim word vectors file that you downloaded (see README)\n",
    "model = gensim.models.KeyedVectors.load_word2vec_format('/media/thomas/026919b3-ea3e-4923-96aa-7f83aae1d652/pretrained_gensim/GoogleNews-vectors-negative300.bin', binary=True)"
   ]
  },
  {
   "cell_type": "code",
   "execution_count": 5,
   "metadata": {
    "collapsed": true
   },
   "outputs": [],
   "source": [
    "# Where the txt files are\n",
    "input_folder = 'data/raw'"
   ]
  },
  {
   "cell_type": "code",
   "execution_count": 6,
   "metadata": {
    "collapsed": true
   },
   "outputs": [],
   "source": [
    "output_folder = 'data/processed'"
   ]
  },
  {
   "cell_type": "code",
   "execution_count": 7,
   "metadata": {
    "collapsed": true
   },
   "outputs": [],
   "source": [
    "model_folder = 'output'"
   ]
  },
  {
   "cell_type": "code",
   "execution_count": 8,
   "metadata": {
    "collapsed": true
   },
   "outputs": [],
   "source": [
    "import pickle as pkl, gzip, pandas as pd\n",
    "from nltk.tokenize import RegexpTokenizer\n",
    "tokenizer = RegexpTokenizer(r'\\w+|\\'')"
   ]
  },
  {
   "cell_type": "code",
   "execution_count": 9,
   "metadata": {
    "collapsed": true
   },
   "outputs": [],
   "source": [
    "def preprocess(text):\n",
    "    tokens = tokenizer.tokenize(text)\n",
    "    preprocessed  = []\n",
    "    for token in tokens:\n",
    "        if len(token) > 2 and token == token[0].upper() + token[1:].lower():\n",
    "            token = \"_PROPERNAME_\"\n",
    "        preprocessed.append(token.lower())\n",
    "    return preprocessed"
   ]
  },
  {
   "cell_type": "code",
   "execution_count": 10,
   "metadata": {
    "collapsed": true
   },
   "outputs": [],
   "source": [
    "all_vocab_used = {}"
   ]
  },
  {
   "cell_type": "code",
   "execution_count": 11,
   "metadata": {
    "collapsed": true
   },
   "outputs": [],
   "source": [
    "for root, folder, files in os.walk(input_folder):\n",
    "    for file_name in files:\n",
    "        with open(input_folder + '/' + file_name, 'r') as f:\n",
    "            all_lines = list(f)\n",
    "            for l in all_lines:\n",
    "                tokens = preprocess(l)\n",
    "                for t in tokens:\n",
    "                    if t in model.vocab:\n",
    "                        if t not in all_vocab_used:\n",
    "                            all_vocab_used[t] = 0\n",
    "                        all_vocab_used[t] = all_vocab_used[t] + 1"
   ]
  },
  {
   "cell_type": "code",
   "execution_count": 12,
   "metadata": {},
   "outputs": [
    {
     "name": "stdout",
     "output_type": "stream",
     "text": [
      "Vocab size 22443\n"
     ]
    }
   ],
   "source": [
    "print (\"Vocab size\", len(all_vocab_used))"
   ]
  },
  {
   "cell_type": "code",
   "execution_count": 13,
   "metadata": {
    "collapsed": true
   },
   "outputs": [],
   "source": [
    "import operator\n",
    "sorted_vocab = list(sorted(all_vocab_used.items(), key=operator.itemgetter(1), reverse=True))"
   ]
  },
  {
   "cell_type": "code",
   "execution_count": 14,
   "metadata": {
    "collapsed": true
   },
   "outputs": [],
   "source": [
    "sorted_vocab = [(\"_UNKNOWN_\",-1)] + sorted_vocab[:9999]"
   ]
  },
  {
   "cell_type": "code",
   "execution_count": 15,
   "metadata": {},
   "outputs": [
    {
     "data": {
      "text/plain": [
       "[('_UNKNOWN_', -1),\n",
       " ('the', 39880),\n",
       " ('i', 33379),\n",
       " ('boundary', 20282),\n",
       " ('in', 15136),\n",
       " ('it', 12987),\n",
       " ('was', 12843),\n",
       " ('you', 12608),\n",
       " ('he', 12348),\n",
       " ('her', 12188)]"
      ]
     },
     "execution_count": 15,
     "metadata": {},
     "output_type": "execute_result"
    }
   ],
   "source": [
    "sorted_vocab[:10]"
   ]
  },
  {
   "cell_type": "code",
   "execution_count": 16,
   "metadata": {
    "collapsed": true
   },
   "outputs": [],
   "source": [
    "abridged_index2word = []\n",
    "abridged_word2index = {}\n",
    "ctr = 0\n",
    "for w, f in sorted_vocab:\n",
    "    abridged_index2word.append(w)\n",
    "    abridged_word2index[w] = ctr\n",
    "    ctr += 1"
   ]
  },
  {
   "cell_type": "code",
   "execution_count": 17,
   "metadata": {
    "collapsed": true
   },
   "outputs": [],
   "source": [
    "import gzip, pickle as pkl\n",
    "with gzip.GzipFile(\"data/abridged_index2word.pkl.gz\", \"wb\") as f:\n",
    "    pkl.dump(abridged_index2word, f)\n",
    "with gzip.GzipFile(\"data/abridged_word2index.pkl.gz\", \"wb\") as f:\n",
    "    pkl.dump(abridged_word2index, f)"
   ]
  },
  {
   "cell_type": "code",
   "execution_count": 18,
   "metadata": {
    "collapsed": true
   },
   "outputs": [],
   "source": [
    "LENGTH_OF_GENSIM_VECTOR = 300"
   ]
  },
  {
   "cell_type": "code",
   "execution_count": 19,
   "metadata": {
    "collapsed": true
   },
   "outputs": [],
   "source": [
    "# store the embeddings in a numpy array\n",
    "\n",
    "embedding_matrix = np.zeros((len(abridged_index2word), LENGTH_OF_GENSIM_VECTOR))\n",
    "for i in range(len(abridged_index2word)):\n",
    "    if i == 0:\n",
    "        continue #  _UNKNOWN_\n",
    "    if i % 10000 == 0:\n",
    "        print (i, \"of\", len(abridged_index2word))\n",
    "    embedding_vector = model.wv[abridged_index2word[i]]\n",
    "    if embedding_vector is not None:\n",
    "        embedding_matrix[i] = embedding_vector"
   ]
  },
  {
   "cell_type": "code",
   "execution_count": 20,
   "metadata": {
    "collapsed": true
   },
   "outputs": [],
   "source": [
    "#free memory\n",
    "del(model)"
   ]
  },
  {
   "cell_type": "code",
   "execution_count": 21,
   "metadata": {
    "collapsed": true
   },
   "outputs": [],
   "source": [
    "filter_sizes = \"3,4,5\"\n",
    "num_filters = 128\n",
    "l2_reg_lambda = 0\n",
    "num_checkpoints = 10"
   ]
  },
  {
   "cell_type": "code",
   "execution_count": 22,
   "metadata": {},
   "outputs": [
    {
     "name": "stderr",
     "output_type": "stream",
     "text": [
      "/home/thomas/anaconda3/lib/python3.6/importlib/_bootstrap.py:205: RuntimeWarning: compiletime version 3.5 of module 'tensorflow.python.framework.fast_tensor_util' does not match runtime version 3.6\n",
      "  return f(*args, **kwds)\n",
      "/home/thomas/anaconda3/lib/python3.6/site-packages/h5py/__init__.py:34: FutureWarning: Conversion of the second argument of issubdtype from `float` to `np.floating` is deprecated. In future, it will be treated as `np.float64 == np.dtype(float).type`.\n",
      "  from ._conv import register_converters as _register_converters\n"
     ]
    }
   ],
   "source": [
    "import tensorflow as tf"
   ]
  },
  {
   "cell_type": "code",
   "execution_count": 23,
   "metadata": {},
   "outputs": [
    {
     "name": "stderr",
     "output_type": "stream",
     "text": [
      "/home/thomas/anaconda3/lib/python3.6/site-packages/numexpr/cpuinfo.py:42: UserWarning: [Errno 12] Cannot allocate memory\n",
      "  warnings.warn(str(e), UserWarning, stacklevel=stacklevel)\n"
     ]
    }
   ],
   "source": [
    "import text_cnn\n",
    "cnn = text_cnn.TextCNN(\n",
    "            sequence_length=1000,\n",
    "            num_classes=2, \n",
    "            vocab_size=(len(abridged_index2word)),\n",
    "            embedding_size=LENGTH_OF_GENSIM_VECTOR,\n",
    "            filter_sizes=list(map(int, filter_sizes.split(\",\"))),\n",
    "            num_filters=num_filters,\n",
    "            l2_reg_lambda=l2_reg_lambda)"
   ]
  },
  {
   "cell_type": "code",
   "execution_count": 24,
   "metadata": {
    "collapsed": true
   },
   "outputs": [],
   "source": [
    "global_step = tf.Variable(0, name=\"global_step\", trainable=False)"
   ]
  },
  {
   "cell_type": "code",
   "execution_count": 25,
   "metadata": {
    "collapsed": true
   },
   "outputs": [],
   "source": [
    "sess = tf.InteractiveSession()"
   ]
  },
  {
   "cell_type": "code",
   "execution_count": 26,
   "metadata": {},
   "outputs": [
    {
     "name": "stdout",
     "output_type": "stream",
     "text": [
      "WARNING:tensorflow:From /home/thomas/anaconda3/lib/python3.6/site-packages/tensorflow/python/util/tf_should_use.py:107: initialize_all_variables (from tensorflow.python.ops.variables) is deprecated and will be removed after 2017-03-02.\n",
      "Instructions for updating:\n",
      "Use `tf.global_variables_initializer` instead.\n"
     ]
    },
    {
     "data": {
      "text/plain": [
       "<tf.Operation 'init' type=NoOp>"
      ]
     },
     "execution_count": 26,
     "metadata": {},
     "output_type": "execute_result"
    }
   ],
   "source": [
    "tf.initialize_all_variables()"
   ]
  },
  {
   "cell_type": "code",
   "execution_count": 27,
   "metadata": {
    "collapsed": true
   },
   "outputs": [],
   "source": [
    "embedding_placeholder = tf.placeholder(tf.float32, [len(abridged_index2word), LENGTH_OF_GENSIM_VECTOR])\n",
    "embedding_init = cnn.W.assign(embedding_placeholder)"
   ]
  },
  {
   "cell_type": "code",
   "execution_count": 28,
   "metadata": {},
   "outputs": [
    {
     "data": {
      "text/plain": [
       "[<tf.Variable 'embedding/W:0' shape=(10000, 300) dtype=float32_ref>,\n",
       " <tf.Variable 'conv-maxpool-3/W:0' shape=(3, 300, 1, 128) dtype=float32_ref>,\n",
       " <tf.Variable 'conv-maxpool-3/b:0' shape=(128,) dtype=float32_ref>,\n",
       " <tf.Variable 'conv-maxpool-4/W:0' shape=(4, 300, 1, 128) dtype=float32_ref>,\n",
       " <tf.Variable 'conv-maxpool-4/b:0' shape=(128,) dtype=float32_ref>,\n",
       " <tf.Variable 'conv-maxpool-5/W:0' shape=(5, 300, 1, 128) dtype=float32_ref>,\n",
       " <tf.Variable 'conv-maxpool-5/b:0' shape=(128,) dtype=float32_ref>,\n",
       " <tf.Variable 'W:0' shape=(384, 2) dtype=float32_ref>,\n",
       " <tf.Variable 'output/b:0' shape=(2,) dtype=float32_ref>,\n",
       " <tf.Variable 'global_step:0' shape=() dtype=int32_ref>]"
      ]
     },
     "execution_count": 28,
     "metadata": {},
     "output_type": "execute_result"
    }
   ],
   "source": [
    "tf.global_variables()"
   ]
  },
  {
   "cell_type": "code",
   "execution_count": null,
   "metadata": {
    "collapsed": true
   },
   "outputs": [],
   "source": []
  },
  {
   "cell_type": "code",
   "execution_count": 29,
   "metadata": {
    "collapsed": true
   },
   "outputs": [],
   "source": [
    "gensim_weights = [x for x in tf.global_variables() if \"embedding\" in str(x)]\n",
    "other_weights = [x for x in tf.global_variables() if \"embedding\" not in str(x)]"
   ]
  },
  {
   "cell_type": "code",
   "execution_count": 30,
   "metadata": {},
   "outputs": [
    {
     "data": {
      "text/plain": [
       "[<tf.Variable 'embedding/W:0' shape=(10000, 300) dtype=float32_ref>]"
      ]
     },
     "execution_count": 30,
     "metadata": {},
     "output_type": "execute_result"
    }
   ],
   "source": [
    "gensim_weights"
   ]
  },
  {
   "cell_type": "code",
   "execution_count": 31,
   "metadata": {},
   "outputs": [
    {
     "data": {
      "text/plain": [
       "array([[ 0.        ,  0.        ,  0.        , ...,  0.        ,\n",
       "         0.        ,  0.        ],\n",
       "       [ 0.08007812,  0.10498047,  0.04980469, ...,  0.00366211,\n",
       "         0.04760742, -0.06884766],\n",
       "       [-0.22558594, -0.01953125,  0.09082031, ...,  0.02819824,\n",
       "        -0.17773438, -0.00604248],\n",
       "       ...,\n",
       "       [ 0.05664062,  0.0168457 ,  0.12890625, ..., -0.15332031,\n",
       "         0.171875  , -0.20996094],\n",
       "       [ 0.00202942,  0.38867188,  0.15332031, ...,  0.1640625 ,\n",
       "         0.32421875, -0.03344727],\n",
       "       [-0.00259399,  0.09082031, -0.07519531, ...,  0.18554688,\n",
       "         0.10205078,  0.15332031]], dtype=float32)"
      ]
     },
     "execution_count": 31,
     "metadata": {},
     "output_type": "execute_result"
    }
   ],
   "source": [
    "sess.run(embedding_init, feed_dict={embedding_placeholder: embedding_matrix})"
   ]
  },
  {
   "cell_type": "code",
   "execution_count": 32,
   "metadata": {
    "collapsed": true
   },
   "outputs": [],
   "source": [
    "saver_embedding = tf.train.Saver(gensim_weights)"
   ]
  },
  {
   "cell_type": "code",
   "execution_count": 33,
   "metadata": {},
   "outputs": [
    {
     "data": {
      "text/plain": [
       "'output/gensim_weights'"
      ]
     },
     "execution_count": 33,
     "metadata": {},
     "output_type": "execute_result"
    }
   ],
   "source": [
    "saver_embedding.save(sess, model_folder + \"/gensim_weights\")"
   ]
  },
  {
   "cell_type": "code",
   "execution_count": null,
   "metadata": {
    "collapsed": true
   },
   "outputs": [],
   "source": []
  }
 ],
 "metadata": {
  "kernelspec": {
   "display_name": "Python 3",
   "language": "python",
   "name": "python3"
  },
  "language_info": {
   "codemirror_mode": {
    "name": "ipython",
    "version": 3
   },
   "file_extension": ".py",
   "mimetype": "text/x-python",
   "name": "python",
   "nbconvert_exporter": "python",
   "pygments_lexer": "ipython3",
   "version": "3.6.2"
  }
 },
 "nbformat": 4,
 "nbformat_minor": 2
}
